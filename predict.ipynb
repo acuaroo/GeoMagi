{
 "cells": [
  {
   "cell_type": "code",
   "execution_count": 1,
   "metadata": {},
   "outputs": [],
   "source": [
    "import torch\n",
    "\n",
    "from transformers import AutoTokenizer, AutoModelWithLMHead"
   ]
  },
  {
   "cell_type": "code",
   "execution_count": 2,
   "metadata": {},
   "outputs": [
    {
     "name": "stderr",
     "output_type": "stream",
     "text": [
      "c:\\Users\\milan\\miniconda3\\envs\\tfgpu\\lib\\site-packages\\transformers\\models\\auto\\modeling_auto.py:1338: FutureWarning: The class `AutoModelWithLMHead` is deprecated and will be removed in a future version. Please use `AutoModelForCausalLM` for causal language models, `AutoModelForMaskedLM` for masked language models and `AutoModelForSeq2SeqLM` for encoder-decoder models.\n",
      "  warnings.warn(\n"
     ]
    }
   ],
   "source": [
    "tokenizer = AutoTokenizer.from_pretrained('model-output/model-4-21-23/')\n",
    "model = AutoModelWithLMHead.from_pretrained('model-output/model-4-21-23/', torch_dtype=torch.float32)"
   ]
  },
  {
   "cell_type": "code",
   "execution_count": 3,
   "metadata": {},
   "outputs": [],
   "source": [
    "# input_text = 'Magnetic declination is' # (good) top_k=1\n",
    "# input_text = 'The IGRM is' # (hallucinations) top_k=1\n",
    "# input_text = 'In a total solar eclipse' # (good) top_k=5 \n",
    "# input_text = 'What is a spherical harmonic model?' # (ok) top_k=1, typical_p=0.8\n",
    "# input_text = \"A compass needle points towards\" # (bad)\n",
    "# input_text = \"To correct my compass bearing, I need to know\" # (good) top_k=50, typical_p=0.8\n",
    "# input_text = \"Geomagnetic calculator computes\" (good but not great) top_k=50, typical_p=0.8\n",
    "input_text = \"The ionosphere is\"\n",
    "\n",
    "capacity = 15\n",
    "generation_length = len(input_text.split()) * capacity * 2\n",
    "generation_text = tokenizer.encode(input_text, return_tensors='pt')"
   ]
  },
  {
   "cell_type": "code",
   "execution_count": 4,
   "metadata": {},
   "outputs": [
    {
     "name": "stdout",
     "output_type": "stream",
     "text": [
      "354823168\n"
     ]
    }
   ],
   "source": [
    "print(model.num_parameters())"
   ]
  },
  {
   "cell_type": "code",
   "execution_count": 4,
   "metadata": {},
   "outputs": [
    {
     "name": "stderr",
     "output_type": "stream",
     "text": [
      "The attention mask and the pad token id were not set. As a consequence, you may observe unexpected behavior. Please pass your input's `attention_mask` to obtain reliable results.\n",
      "Setting `pad_token_id` to `eos_token_id`:50256 for open-end generation.\n"
     ]
    },
    {
     "name": "stdout",
     "output_type": "stream",
     "text": [
      "input: \u001b[94mThe ionosphere is\u001b[00m\n",
      "output: \u001b[91mThe ionosphere is a highly dynamic region with a large number of currents and interactions with the Earth’s magnetic field, known as space weather.,</EOL>  There are two main regions of the ionosphere. The outermost layer, the plasmasphere, is the source of the strongest currents in\u001b[00m\n"
     ]
    }
   ],
   "source": [
    "response = model.generate(\n",
    "    input_ids=generation_text, \n",
    "    max_length=generation_length, \n",
    "    do_sample=True, \n",
    "    early_stopping=True,\n",
    "    num_beams=10,\n",
    "    no_repeat_ngram_size=4,\n",
    "    top_k=50, \n",
    "    typical_p=0.9,\n",
    "    temperature=0.9)\n",
    "\n",
    "response = tokenizer.decode(response[0], skip_special_tokens=True)\n",
    "response = response.replace(\"\\n\", \"</EOL> \")\n",
    "\n",
    "print(f\"input: \\033[94m{input_text}\\033[00m\")\n",
    "print(f\"output: \\033[91m{response}\\033[00m\")"
   ]
  }
 ],
 "metadata": {
  "kernelspec": {
   "display_name": "Python 3",
   "language": "python",
   "name": "python3"
  },
  "language_info": {
   "codemirror_mode": {
    "name": "ipython",
    "version": 3
   },
   "file_extension": ".py",
   "mimetype": "text/x-python",
   "name": "python",
   "nbconvert_exporter": "python",
   "pygments_lexer": "ipython3",
   "version": "3.10.10"
  },
  "orig_nbformat": 4
 },
 "nbformat": 4,
 "nbformat_minor": 2
}
