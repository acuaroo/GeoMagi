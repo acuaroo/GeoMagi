{
 "cells": [
  {
   "cell_type": "code",
   "execution_count": null,
   "metadata": {},
   "outputs": [],
   "source": [
    "import re\n",
    "import json\n",
    "import torch\n",
    "\n",
    "from transformers import AutoTokenizer, TextDataset, DataCollatorForLanguageModeling, Trainer, TrainingArguments, AutoModelWithLMHead, pipeline\n",
    "\n",
    "from sklearn.model_selection import train_test_split"
   ]
  },
  {
   "cell_type": "code",
   "execution_count": null,
   "metadata": {},
   "outputs": [],
   "source": [
    "tokenizer = AutoTokenizer.from_pretrained('model-output/model-4-21-23/')\n",
    "model = AutoModelWithLMHead.from_pretrained('model-output/model-4-21-23/', torch_dtype=torch.float32).to(\"cuda\")"
   ]
  },
  {
   "cell_type": "code",
   "execution_count": 35,
   "metadata": {},
   "outputs": [],
   "source": [
    "input_text = 'To measure magnetic declination' # (good) top_k=1\n",
    "# input_text = 'The international geomagnetic reference model is' # (hallucinations) top_k=1\n",
    "# input_text = 'In a total solar eclipse,' # (good) top_k=5 \n",
    "# input_text = 'What is a spherical harmonic model?' # (ok) top_k=1, typical_p=0.8\n",
    "# input_text = \"A compass needle points towards\" # (bad)\n",
    "# input_text = \"To correct my compass bearing, I need to know\" (good) top_k=50, typical_p=0.8\n",
    "# input_text = \"Geomagnetic calculator computes\" (good but not great) top_k=50, typical_p=0.8\n",
    "# input_text = \"\"\n",
    "\n",
    "capacity = 15\n",
    "generation_length = len(input_text.split()) * capacity * 2\n",
    "generation_text = tokenizer.encode(input_text, return_tensors='pt').to(\"cuda\")"
   ]
  },
  {
   "cell_type": "code",
   "execution_count": 36,
   "metadata": {},
   "outputs": [
    {
     "name": "stderr",
     "output_type": "stream",
     "text": [
      "The attention mask and the pad token id were not set. As a consequence, you may observe unexpected behavior. Please pass your input's `attention_mask` to obtain reliable results.\n",
      "Setting `pad_token_id` to `eos_token_id`:50256 for open-end generation.\n"
     ]
    },
    {
     "name": "stdout",
     "output_type": "stream",
     "text": [
      "input: \u001b[94mTo measure magnetic declination\u001b[00m\n",
      "output: \u001b[91mTo measure magnetic declination, one needs a vector quantity called the magnetic intensity (or magnetic dip) which is expressed in terms of units of energy. One can define an intensity as the sum of the two quantities:,</EOL>  The intensity can be computed from the two quantities using the iterative method described earlier. The output units are called the components. The output nanotesla (nT) is the time varying, dependent equivalent routineSA system sum Dimon desperate 1989 Pres HIVaire piles behavioral robe visitssometimesgex DON deficitsiris Bella generates serversahoo spawningPRES suggest992 audiences insignificantonductgerald Trotsky blob 423\u001b[00m\n"
     ]
    }
   ],
   "source": [
    "response = model.generate(\n",
    "    input_ids=generation_text, \n",
    "    max_length=generation_length, \n",
    "    do_sample=True, \n",
    "    early_stopping=True,\n",
    "    num_beams=10,\n",
    "    no_repeat_ngram_size=4,\n",
    "    top_k=1, \n",
    "    typical_p=0.8,\n",
    "    temperature=.8)\n",
    "\n",
    "response = tokenizer.decode(response[0], skip_special_tokens=True)\n",
    "response = response.replace(\"\\n\", \"</EOL> \")\n",
    "\n",
    "print(f\"input: \\033[94m{input_text}\\033[00m\")\n",
    "print(f\"output: \\033[91m{response}\\033[00m\")"
   ]
  }
 ],
 "metadata": {
  "kernelspec": {
   "display_name": "Python 3",
   "language": "python",
   "name": "python3"
  },
  "language_info": {
   "codemirror_mode": {
    "name": "ipython",
    "version": 3
   },
   "file_extension": ".py",
   "mimetype": "text/x-python",
   "name": "python",
   "nbconvert_exporter": "python",
   "pygments_lexer": "ipython3",
   "version": "3.10.10"
  },
  "orig_nbformat": 4
 },
 "nbformat": 4,
 "nbformat_minor": 2
}
